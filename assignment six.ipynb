{
 "cells": [
  {
   "cell_type": "code",
   "execution_count": 1,
   "metadata": {},
   "outputs": [],
   "source": [
    "class Car():\n",
    "    \n",
    "    counter =0\n",
    "    def __init__(self, carname, model, company, color, license):\n",
    "        self.carname =carname\n",
    "        self.model =model\n",
    "        self.company =company\n",
    "        self.color =color\n",
    "        self.license =license\n",
    "        Car.counter +=1\n",
    "        print(Car.counter)\n",
    "\n",
    "    def speed(self, speed=\"250KM/H\"):\n",
    "        pritn(\"Speed of the Car is \", speed)\n",
    "\n",
    "    def avgspeed(self, avg=\"150KM/H\"):\n",
    "        print(\"The average speed of the car is\", avg)\n",
    "        \n",
    "    def disel(self, based=\"Light\"):\n",
    "        print(\"This car is based on \", based)"
   ]
  },
  {
   "cell_type": "code",
   "execution_count": 2,
   "metadata": {},
   "outputs": [
    {
     "name": "stdout",
     "output_type": "stream",
     "text": [
      "1\n",
      "2\n",
      "3\n",
      "4\n",
      "5\n"
     ]
    }
   ],
   "source": [
    "obj1 =Car(\"Cultus\", \"2017\", \"Honda\", \"Blue\", \"Yes\")\n",
    "obj2 =Car(\"Mehran\", \"2016\", \"China\", \"Red\", \"Yes\")\n",
    "obj3 =Car(\"Civic\", \"2018\", \"Toyotta\", \"Grey\", \"Yes\")\n",
    "obj4=Car(\"Pajaro\", \"2019\", \"Honda\", \"Black\", \"Yes\")\n",
    "obj5=Car(\"Ferrari\", \"2019\", \"Ferrrari\", \"Red\", \"Yes\")"
   ]
  },
  {
   "cell_type": "code",
   "execution_count": 3,
   "metadata": {},
   "outputs": [
    {
     "data": {
      "text/plain": [
       "'2019'"
      ]
     },
     "execution_count": 3,
     "metadata": {},
     "output_type": "execute_result"
    }
   ],
   "source": [
    "obj5.model"
   ]
  },
  {
   "cell_type": "code",
   "execution_count": 4,
   "metadata": {},
   "outputs": [
    {
     "data": {
      "text/plain": [
       "'Red'"
      ]
     },
     "execution_count": 4,
     "metadata": {},
     "output_type": "execute_result"
    }
   ],
   "source": [
    "obj5.color"
   ]
  },
  {
   "cell_type": "code",
   "execution_count": 5,
   "metadata": {},
   "outputs": [
    {
     "name": "stdout",
     "output_type": "stream",
     "text": [
      "Python is a multi-paradigm programming language. Meaning, it supports different programming approach.\n",
      "\n",
      "One of the popular approach to solve a programming problem is by creating objects. This is known as Object-Oriented Programming (OOP).\n",
      "\n",
      "An object has two characteristics:\n",
      "\n",
      "attributes\n",
      "behavior\n",
      "Let's take an example:\n",
      "\n",
      "Parrot is an object,\n",
      "\n",
      "name, age, color are attributes\n",
      "singing, dancing are behavior\n",
      "The concept of OOP in Python focuses on creating reusable code. This concept is also known as DRY (Don't Repeat Yourself).\n",
      "\n",
      "In Python, the concept of OOP follows some basic principles:\n",
      "1.Abstraction\n",
      "2.Inheritence\n",
      "3.Encapsulation\n",
      "4.Polymorphism\n",
      "\n"
     ]
    }
   ],
   "source": [
    "#Define Object Oriented Programming Language?\n",
    "abc=\"\"\"Python is a multi-paradigm programming language. Meaning, it supports different programming approach.\n",
    "\n",
    "One of the popular approach to solve a programming problem is by creating objects. This is known as Object-Oriented Programming (OOP).\n",
    "\n",
    "An object has two characteristics:\n",
    "\n",
    "attributes\n",
    "behavior\n",
    "Let's take an example:\n",
    "\n",
    "Parrot is an object,\n",
    "\n",
    "name, age, color are attributes\n",
    "singing, dancing are behavior\n",
    "The concept of OOP in Python focuses on creating reusable code. This concept is also known as DRY (Don't Repeat Yourself).\n",
    "\n",
    "In Python, the concept of OOP follows some basic principles:\n",
    "1.Abstraction\n",
    "2.Inheritence\n",
    "3.Encapsulation\n",
    "4.Polymorphism\n",
    "\"\"\"\n",
    "print(abc)"
   ]
  },
  {
   "cell_type": "code",
   "execution_count": 6,
   "metadata": {},
   "outputs": [
    {
     "name": "stdout",
     "output_type": "stream",
     "text": [
      "\n",
      "Modularity for easier troubleshooting. Something has gone wrong, and you have no idea where to look. ...\n",
      "Reuse of code through inheritance. ...\n",
      "Flexibility through polymorphism. ...\n",
      "Effective problem solving.\n",
      "\n"
     ]
    }
   ],
   "source": [
    "#List down the Benefits of OOP?\n",
    "xyz=\"\"\"\n",
    "Modularity for easier troubleshooting. Something has gone wrong, and you have no idea where to look. ...\n",
    "Reuse of code through inheritance. ...\n",
    "Flexibility through polymorphism. ...\n",
    "Effective problem solving.\n",
    "\"\"\"\n",
    "print(xyz)"
   ]
  },
  {
   "cell_type": "code",
   "execution_count": 7,
   "metadata": {},
   "outputs": [
    {
     "name": "stdout",
     "output_type": "stream",
     "text": [
      "Python Method\n",
      "\n",
      "Method is called by its name, but it is associated to an object (dependent).\n",
      "A method is implicitly passed the object on which it is invoked.\n",
      "It may or may not return any data.\n",
      "A method can operate on the data (instance variables) that is contained by the corresponding class\n",
      "\n",
      "Functions\n",
      "\n",
      "Function is block of code that is also called by its name. (independent)\n",
      "The function can have different parameters or may not have any at all. If any data (parameters) are passed, they are passed explicitly.\n",
      "It may or may not return any data.\n",
      "Function does not deal with Class and its instance concept.\n",
      "\n"
     ]
    }
   ],
   "source": [
    "#Differentiate between function and method?\n",
    "abx=\"\"\"Python Method\n",
    "\n",
    "Method is called by its name, but it is associated to an object (dependent).\n",
    "A method is implicitly passed the object on which it is invoked.\n",
    "It may or may not return any data.\n",
    "A method can operate on the data (instance variables) that is contained by the corresponding class\n",
    "\n",
    "Functions\n",
    "\n",
    "Function is block of code that is also called by its name. (independent)\n",
    "The function can have different parameters or may not have any at all. If any data (parameters) are passed, they are passed explicitly.\n",
    "It may or may not return any data.\n",
    "Function does not deal with Class and its instance concept.\n",
    "\"\"\"\n",
    "print(abx)"
   ]
  },
  {
   "cell_type": "code",
   "execution_count": 8,
   "metadata": {},
   "outputs": [
    {
     "name": "stdout",
     "output_type": "stream",
     "text": [
      "\n",
      "Classes\n",
      "Classes provide a means of bundling data and functionality together. Creating a new class creates a new type of object, allowing new instances of that type to be made. Each class instance can have attributes attached to it for maintaining its state. Class instances can also have methods (defined by its class) for modifying its state.\n",
      "\n",
      "Compared with other programming languages, Python’s class mechanism adds classes with a minimum of new syntax and semantics. It is a mixture of the class mechanisms found in C++ and Modula-3. Python classes provide all the standard features of Object Oriented Programming: the class inheritance mechanism allows multiple base classes, a derived class can override any methods of its base class or classes, and a method can call the method of a base class with the same name. Objects can contain arbitrary amounts and kinds of data. As is true for modules, classes partake of the dynamic nature of Python: they are created at runtime, and can be modified further after creation.\n",
      "\n"
     ]
    }
   ],
   "source": [
    "#Define class\n",
    "aby=\"\"\"\n",
    "Classes\n",
    "Classes provide a means of bundling data and functionality together. Creating a new class creates a new type of object, allowing new instances of that type to be made. Each class instance can have attributes attached to it for maintaining its state. Class instances can also have methods (defined by its class) for modifying its state.\n",
    "\n",
    "Compared with other programming languages, Python’s class mechanism adds classes with a minimum of new syntax and semantics. It is a mixture of the class mechanisms found in C++ and Modula-3. Python classes provide all the standard features of Object Oriented Programming: the class inheritance mechanism allows multiple base classes, a derived class can override any methods of its base class or classes, and a method can call the method of a base class with the same name. Objects can contain arbitrary amounts and kinds of data. As is true for modules, classes partake of the dynamic nature of Python: they are created at runtime, and can be modified further after creation.\n",
    "\"\"\"\n",
    "print(aby)"
   ]
  },
  {
   "cell_type": "code",
   "execution_count": null,
   "metadata": {},
   "outputs": [],
   "source": []
  }
 ],
 "metadata": {
  "kernelspec": {
   "display_name": "Python 3",
   "language": "python",
   "name": "python3"
  },
  "language_info": {
   "codemirror_mode": {
    "name": "ipython",
    "version": 3
   },
   "file_extension": ".py",
   "mimetype": "text/x-python",
   "name": "python",
   "nbconvert_exporter": "python",
   "pygments_lexer": "ipython3",
   "version": "3.7.4"
  }
 },
 "nbformat": 4,
 "nbformat_minor": 2
}
