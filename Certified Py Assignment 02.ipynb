{
 "cells": [
  {
   "cell_type": "code",
   "execution_count": 1,
   "metadata": {},
   "outputs": [
    {
     "name": "stdout",
     "output_type": "stream",
     "text": [
      "Enter marks of sub1: 89\n",
      "Enter marks of sub2: 87\n",
      "Enter marks of sub3: 78\n",
      "Enter marks of sub4: 89\n",
      "Enter marks of sub5: 95\n",
      "You Obtained  438 Marks\n",
      "Grade: A \n"
     ]
    }
   ],
   "source": [
    "sub1 =int(input(\"Enter marks of sub1: \"))\n",
    "sub2 =int(input(\"Enter marks of sub2: \"))\n",
    "sub3 =int(input(\"Enter marks of sub3: \"))\n",
    "sub4 =int(input(\"Enter marks of sub4: \"))\n",
    "sub5 =int(input(\"Enter marks of sub5: \"))\n",
    "Total=sub1 + sub2 + sub3 + sub4 + sub5\n",
    "print(\"You Obtained \", Total, \"Marks\")\n",
    "average =(sub1 + sub2 + sub3 + sub4 + sub5)/5\n",
    "if average>=90:\n",
    "    print(\"Grade: A+\")\n",
    "elif average>=80:\n",
    "    print(\"Grade: A \")\n",
    "elif average>=70:\n",
    "    print(\"Grade: B \")\n",
    "elif average>=60:\n",
    "    print(\"Grade: C\")\n",
    "elif average>=50:\n",
    "    print(\"Grade: D\")\n",
    "else:\n",
    "    print(\"Fail \")"
   ]
  },
  {
   "cell_type": "code",
   "execution_count": 2,
   "metadata": {},
   "outputs": [
    {
     "name": "stdout",
     "output_type": "stream",
     "text": [
      "Enter a number: 7\n",
      "This is an odd number \n"
     ]
    }
   ],
   "source": [
    "num1 =int(input(\"Enter a number: \"))\n",
    "mod =num1 % 2\n",
    "if mod > 0:\n",
    "    print(\"This is an odd number \")\n",
    "else:\n",
    "    print(\"This is am even number \")"
   ]
  },
  {
   "cell_type": "code",
   "execution_count": 3,
   "metadata": {},
   "outputs": [
    {
     "data": {
      "text/plain": [
       "9"
      ]
     },
     "execution_count": 3,
     "metadata": {},
     "output_type": "execute_result"
    }
   ],
   "source": [
    "list =[1,2,3,4,5,6,6,7,8]\n",
    "len(list)"
   ]
  },
  {
   "cell_type": "code",
   "execution_count": 4,
   "metadata": {},
   "outputs": [
    {
     "data": {
      "text/plain": [
       "27"
      ]
     },
     "execution_count": 4,
     "metadata": {},
     "output_type": "execute_result"
    }
   ],
   "source": [
    "list = [1,2,3,5,4,5,3,4]\n",
    "sum(list)"
   ]
  },
  {
   "cell_type": "code",
   "execution_count": 5,
   "metadata": {},
   "outputs": [
    {
     "name": "stdout",
     "output_type": "stream",
     "text": [
      "Largest number in a list is: 115\n"
     ]
    }
   ],
   "source": [
    "list1 = [10, 20,45,115, 99, 33]\n",
    "print(\"Largest number in a list is:\", max(list1))"
   ]
  },
  {
   "cell_type": "code",
   "execution_count": 6,
   "metadata": {},
   "outputs": [
    {
     "name": "stdout",
     "output_type": "stream",
     "text": [
      "1\n",
      "1\n",
      "2\n",
      "3\n"
     ]
    }
   ],
   "source": [
    "a = [1, 1, 2, 3, 5, 8, 13, 21, 34, 55, 89]\n",
    "for i in a:\n",
    "    if i <5:\n",
    "        print(i)"
   ]
  },
  {
   "cell_type": "code",
   "execution_count": null,
   "metadata": {},
   "outputs": [],
   "source": []
  }
 ],
 "metadata": {
  "kernelspec": {
   "display_name": "Python 3",
   "language": "python",
   "name": "python3"
  },
  "language_info": {
   "codemirror_mode": {
    "name": "ipython",
    "version": 3
   },
   "file_extension": ".py",
   "mimetype": "text/x-python",
   "name": "python",
   "nbconvert_exporter": "python",
   "pygments_lexer": "ipython3",
   "version": "3.7.1"
  }
 },
 "nbformat": 4,
 "nbformat_minor": 2
}
