{
 "cells": [
  {
   "cell_type": "code",
   "execution_count": 1,
   "metadata": {},
   "outputs": [
    {
     "name": "stdout",
     "output_type": "stream",
     "text": [
      "Enter a number: 3\n",
      "Enter a number: 3\n",
      "Enter your desired function: **\n",
      "Answer is 27\n"
     ]
    }
   ],
   "source": [
    "num1=int(input(\"Enter a number: \"))\n",
    "num2=int(input(\"Enter a number: \"))\n",
    "operator = input(\"Enter your desired function: \")\n",
    "if operator =='+':\n",
    "    answer =(num1 + num2)\n",
    "    print(\"Answer is\" , answer)\n",
    "elif operator =='-':\n",
    "    answer =(num1 - num2)\n",
    "    print(\"Answer is\", answer)\n",
    "elif operator =='*':\n",
    "    answer =(num1 * num2)\n",
    "    print(\"Answer is\", answer)\n",
    "elif operator =='/':\n",
    "    answer =(num1 / num2)\n",
    "    print(\"Answer is\", answer)\n",
    "elif operator =='**':\n",
    "    answer =(num1 ** num2)\n",
    "    print(\"Answer is\", answer)\n",
    "else:\n",
    "    print(\"Invalid \")"
   ]
  },
  {
   "cell_type": "code",
   "execution_count": 2,
   "metadata": {},
   "outputs": [
    {
     "name": "stdout",
     "output_type": "stream",
     "text": [
      "Value exists\n",
      "Not exists\n",
      "Not exists\n",
      "Not exists\n",
      "Not exists\n",
      "Not exists\n",
      "Not exists\n",
      "Not exists\n"
     ]
    }
   ],
   "source": [
    "test_list =[1,'a','b',2,'c',3,4,5]\n",
    "for i in test_list:\n",
    "    if i == 1:\n",
    "        print(\"Value exists\")\n",
    "    else:\n",
    "        print(\"Not exists\")"
   ]
  },
  {
   "cell_type": "code",
   "execution_count": 3,
   "metadata": {},
   "outputs": [
    {
     "name": "stdout",
     "output_type": "stream",
     "text": [
      "azeem\n",
      "aziz\n"
     ]
    }
   ],
   "source": [
    "worker = {\n",
    "    \"name\":\"azeem\",\n",
    "    \"age\":25,\n",
    "    \"is_verified\" :True\n",
    "}\n",
    "print(worker[\"name\"])\n",
    "worker.update({\"name\":\"aziz\"})\n",
    "print(worker[\"name\"])"
   ]
  },
  {
   "cell_type": "code",
   "execution_count": 4,
   "metadata": {},
   "outputs": [
    {
     "name": "stdout",
     "output_type": "stream",
     "text": [
      "110\n"
     ]
    }
   ],
   "source": [
    "my_dict = {'num1':20,\n",
    "           'num':50,\n",
    "           'num3':40\n",
    "}\n",
    "print(sum(my_dict.values()))"
   ]
  },
  {
   "cell_type": "code",
   "execution_count": 5,
   "metadata": {},
   "outputs": [
    {
     "name": "stdout",
     "output_type": "stream",
     "text": [
      "[11, 23, 3, 12]\n"
     ]
    }
   ],
   "source": [
    "lst = [ 11,21, 3, 11,23,23, 12, 3, 3, 12, 12,14,15]\n",
    "dupItems = []\n",
    "uniqItems = {}\n",
    "for x in lst:\n",
    "    if x not in uniqItems:\n",
    "        uniqItems[x] = 1\n",
    "    else:\n",
    "        if uniqItems[x] == 1:\n",
    "            dupItems.append(x)\n",
    "        uniqItems[x] += 1\n",
    "print(dupItems)"
   ]
  },
  {
   "cell_type": "code",
   "execution_count": 6,
   "metadata": {},
   "outputs": [
    {
     "name": "stdout",
     "output_type": "stream",
     "text": [
      "Key is in dictionary\n",
      "Key is not in dictionary\n"
     ]
    }
   ],
   "source": [
    "new_dict ={2:4, \n",
    "           3:9,\n",
    "           4:16,\n",
    "           5:20 }\n",
    "def is_key_present(x):\n",
    "    if x in new_dict:\n",
    "        print('Key is in dictionary')\n",
    "    else:\n",
    "        print('Key is not in dictionary')\n",
    "is_key_present(4)\n",
    "is_key_present(1)"
   ]
  },
  {
   "cell_type": "code",
   "execution_count": null,
   "metadata": {},
   "outputs": [],
   "source": []
  }
 ],
 "metadata": {
  "kernelspec": {
   "display_name": "Python 3",
   "language": "python",
   "name": "python3"
  },
  "language_info": {
   "codemirror_mode": {
    "name": "ipython",
    "version": 3
   },
   "file_extension": ".py",
   "mimetype": "text/x-python",
   "name": "python",
   "nbconvert_exporter": "python",
   "pygments_lexer": "ipython3",
   "version": "3.7.1"
  }
 },
 "nbformat": 4,
 "nbformat_minor": 2
}
