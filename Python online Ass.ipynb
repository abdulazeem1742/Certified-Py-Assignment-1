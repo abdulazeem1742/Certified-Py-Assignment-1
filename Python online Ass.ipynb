{
 "cells": [
  {
   "cell_type": "code",
   "execution_count": 1,
   "metadata": {},
   "outputs": [
    {
     "name": "stdout",
     "output_type": "stream",
     "text": [
      "\n",
      "            Twinkle, twinkle, little star,\n",
      "                   How I wonder what you are!\n",
      "                         Up above the world so high,\n",
      "                         Like a diamond in the sky.\n",
      "            Twinkle, twinkle, little star,\n",
      "                   How I wonder what you are\n",
      "    \n"
     ]
    }
   ],
   "source": [
    "abc = \"\"\"\n",
    "            Twinkle, twinkle, little star,\n",
    "                   How I wonder what you are!\n",
    "                         Up above the world so high,\n",
    "                         Like a diamond in the sky.\n",
    "            Twinkle, twinkle, little star,\n",
    "                   How I wonder what you are\n",
    "    \"\"\"\n",
    "print(abc)"
   ]
  },
  {
   "cell_type": "code",
   "execution_count": 2,
   "metadata": {},
   "outputs": [
    {
     "name": "stdout",
     "output_type": "stream",
     "text": [
      "Python version\n",
      "3.7.1 (default, Dec 10 2018, 22:54:23) [MSC v.1915 64 bit (AMD64)]\n"
     ]
    }
   ],
   "source": [
    "import sys\n",
    "print(\"Python version\")\n",
    "print (sys.version)"
   ]
  },
  {
   "cell_type": "code",
   "execution_count": 3,
   "metadata": {},
   "outputs": [
    {
     "name": "stdout",
     "output_type": "stream",
     "text": [
      "2019-11-02 21:41:33.817368\n"
     ]
    }
   ],
   "source": [
    "import datetime\n",
    "\n",
    "x =datetime.datetime.now()\n",
    "print(x)"
   ]
  },
  {
   "cell_type": "code",
   "execution_count": 4,
   "metadata": {},
   "outputs": [
    {
     "name": "stdout",
     "output_type": "stream",
     "text": [
      "Input the radius of the circle : 7\n",
      "The area of the circle with radius 7.0 is: 153.93804002589985\n"
     ]
    }
   ],
   "source": [
    "from math import pi\n",
    "radius = float(input (\"Input the radius of the circle : \"))\n",
    "print (\"The area of the circle with radius \" + str(radius) + \" is: \" + str(pi * radius**2))"
   ]
  },
  {
   "cell_type": "code",
   "execution_count": 5,
   "metadata": {},
   "outputs": [
    {
     "name": "stdout",
     "output_type": "stream",
     "text": [
      "Enter your first name :abdul\n",
      "Enter your last name :azeem\n",
      "azeem abdul\n"
     ]
    }
   ],
   "source": [
    "fname =input(\"Enter your first name :\")\n",
    "lname =input(\"Enter your last name :\")\n",
    "print(\"\"+ lname + \" \" +fname)"
   ]
  },
  {
   "cell_type": "code",
   "execution_count": 6,
   "metadata": {},
   "outputs": [
    {
     "name": "stdout",
     "output_type": "stream",
     "text": [
      "PI\n",
      "AIC\n",
      "PIAIC\n"
     ]
    }
   ],
   "source": [
    "x = input()\n",
    "z = input()\n",
    "sum = x + z\n",
    "print(sum)"
   ]
  },
  {
   "cell_type": "code",
   "execution_count": null,
   "metadata": {},
   "outputs": [],
   "source": []
  },
  {
   "cell_type": "code",
   "execution_count": null,
   "metadata": {},
   "outputs": [],
   "source": []
  }
 ],
 "metadata": {
  "kernelspec": {
   "display_name": "Python 3",
   "language": "python",
   "name": "python3"
  },
  "language_info": {
   "codemirror_mode": {
    "name": "ipython",
    "version": 3
   },
   "file_extension": ".py",
   "mimetype": "text/x-python",
   "name": "python",
   "nbconvert_exporter": "python",
   "pygments_lexer": "ipython3",
   "version": "3.7.1"
  }
 },
 "nbformat": 4,
 "nbformat_minor": 2
}
