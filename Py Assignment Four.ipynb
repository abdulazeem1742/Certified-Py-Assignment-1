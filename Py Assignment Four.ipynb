{
 "cells": [
  {
   "cell_type": "code",
   "execution_count": 1,
   "metadata": {},
   "outputs": [
    {
     "name": "stdout",
     "output_type": "stream",
     "text": [
      "{'first_name': 'Ali', 'last_nmae': 'Abbas', 'age': 19, 'city': 'Hyderabad'}\n",
      "{'first_name': 'Ali', 'last_nmae': 'Abbas', 'age': 19, 'city': 'Hyderabad', 'qualification': 'Intermediate'}\n",
      "{'first_name': 'Ali', 'last_nmae': 'Abbas', 'age': 19, 'city': 'Hyderabad', 'qualification': 'High level'}\n",
      "{'first_name': 'Ali', 'last_nmae': 'Abbas', 'age': 19, 'city': 'Hyderabad'}\n"
     ]
    }
   ],
   "source": [
    "information ={\n",
    "    \"first_name\":\"Ali\",\n",
    "    \"last_nmae\":\"Abbas\",\n",
    "    \"age\":19,\n",
    "    \"city\":\"Hyderabad\"\n",
    "}\n",
    "print(information)\n",
    "information.update({\"qualification\":\"Intermediate\"})\n",
    "print(information)\n",
    "information.update({\"qualification\":\"High level\"})\n",
    "print(information)\n",
    "del information[\"qualification\"]\n",
    "print(information)"
   ]
  },
  {
   "cell_type": "code",
   "execution_count": 2,
   "metadata": {},
   "outputs": [
    {
     "name": "stdout",
     "output_type": "stream",
     "text": [
      "{'Country_name': 'Pakistan', 'Popullations': '4.5 cror', 'Fact': \"Karachi is vital to Pakistan's economy, contributing 42 per cent of GDP\"}\n",
      "{'Country_name': 'Pakistan', 'Popullations': '3.7 cror', 'Fact': 'City of Gardens'}\n",
      "{'Country_name': 'Pakistan', 'Popullations': '3.7 cror', 'Fact': 'It is largely known for its gigantic historical fort'}\n",
      "dict_items([('Country_name', 'Pakistan'), ('Popullations', '4.5 cror'), ('Fact', \"Karachi is vital to Pakistan's economy, contributing 42 per cent of GDP\")])\n"
     ]
    }
   ],
   "source": [
    "cities ={\n",
    "    \"Karachi\":{\n",
    "        \"Country_name\":\"Pakistan\",\n",
    "        \"Popullations\":'4.5 cror',\n",
    "        \"Fact\":\"Karachi is vital to Pakistan's economy, contributing 42 per cent of GDP\" },\n",
    "    \"Lahore\":{\n",
    "        \"Country_name\":\"Pakistan\",\n",
    "        \"Popullations\":'3.7 cror',\n",
    "        \"Fact\":\"City of Gardens\"\n",
    "    },\n",
    "    \"Umerkot\":{\n",
    "        \"Country_name\":\"Pakistan\",\n",
    "        \"Popullations\":'3.7 cror',\n",
    "        \"Fact\":\"It is largely known for its gigantic historical fort\"\n",
    "    }\n",
    "}\n",
    "print(cities[\"Karachi\"])\n",
    "print(cities[\"Lahore\"])\n",
    "print(cities[\"Umerkot\"])\n",
    "print(cities['Karachi'].items())"
   ]
  },
  {
   "cell_type": "code",
   "execution_count": 3,
   "metadata": {},
   "outputs": [
    {
     "name": "stdout",
     "output_type": "stream",
     "text": [
      "If you embrace this method of learning, you’ll get the hang of Python in less time than you might expect\n"
     ]
    }
   ],
   "source": [
    "def my_favorite(A_smarter_way_to_learn_python):\n",
    "    A_smarter_way_to_learn_python =\"If you embrace this method of learning, you’ll get the hang of Python in less time than you might expect\"\n",
    "    print(A_smarter_way_to_learn_python)\n",
    "my_favorite('A_smarter_way_to_learn_python')"
   ]
  },
  {
   "cell_type": "code",
   "execution_count": 4,
   "metadata": {},
   "outputs": [
    {
     "name": "stdout",
     "output_type": "stream",
     "text": [
      "Enter your age: 5\n",
      "Your ticket is $10.\n"
     ]
    }
   ],
   "source": [
    "age =int(input(\"Enter your age: \"))\n",
    "while True:\n",
    "    if age < 3:\n",
    "        print(\"You ticket is free\")\n",
    "    elif age <13:\n",
    "        print(\"Your ticket is $10.\")\n",
    "    else:\n",
    "        print(\"your ticket is $15.\")\n",
    "    break"
   ]
  },
  {
   "cell_type": "code",
   "execution_count": 5,
   "metadata": {},
   "outputs": [
    {
     "name": "stdout",
     "output_type": "stream",
     "text": [
      "Enter the value23\n",
      "Your number is low\n",
      "Enter the value28\n",
      "Number is high\n",
      "Enter the value26\n",
      "Number is high\n",
      "You lose... the number was 24\n"
     ]
    }
   ],
   "source": [
    "import random\n",
    "n1 =random.randint(1,30)\n",
    "guess_count =1\n",
    "while guess_count < 4:\n",
    "    number =int(input(\"Enter the value\"))\n",
    "    guess_count +=1\n",
    "    if number > 30:\n",
    "        print(\"Enter number less then 30.\")\n",
    "    if number < n1:\n",
    "        print(\"Your number is low\")\n",
    "    if  number > n1:\n",
    "        print(\"Number is high\")\n",
    "    if number== n1:\n",
    "        print(\"you won\")\n",
    "        break\n",
    "if number == n1:\n",
    "    print(f\"You have tried {guess_count} times\")\n",
    "elif number!= n1:\n",
    "    print(f\"You lose... the number was {n1}\")"
   ]
  },
  {
   "cell_type": "code",
   "execution_count": null,
   "metadata": {},
   "outputs": [],
   "source": []
  }
 ],
 "metadata": {
  "kernelspec": {
   "display_name": "Python 3",
   "language": "python",
   "name": "python3"
  },
  "language_info": {
   "codemirror_mode": {
    "name": "ipython",
    "version": 3
   },
   "file_extension": ".py",
   "mimetype": "text/x-python",
   "name": "python",
   "nbconvert_exporter": "python",
   "pygments_lexer": "ipython3",
   "version": "3.7.1"
  }
 },
 "nbformat": 4,
 "nbformat_minor": 2
}
